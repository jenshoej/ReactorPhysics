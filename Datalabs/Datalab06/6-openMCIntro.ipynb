{
 "cells": [
  {
   "cell_type": "markdown",
   "source": [
    "# OpenMC introduction\n",
    "\n",
    "Please indicate your name below, since you will need to submit this notebook completed latest the day after the datalab.\n",
    "\n",
    "Don't forget to save your progress during the datalab to avoid any loss due to crashes."
   ],
   "metadata": {}
  },
  {
   "cell_type": "code",
   "execution_count": 3,
   "source": [
    "name='Jens'"
   ],
   "outputs": [],
   "metadata": {}
  },
  {
   "cell_type": "markdown",
   "source": [
    "In our previous endeavours we experienced that performing an accurate simulation of particle transport is not trivial. There are several softwares developed to solve this task, and for someone who is more interested in performing the analysis of a reactor core, it is often better to use an already verified and validated code instead of developing a new one from scratch. There are several such codes solving neutron transport either relying on deterministic or stochastic methods. During this datalab we will use a rather young code called OpenMC, which was originally developed at MIT.  \n",
    "\n",
    "OpenMC is a Monte Carlo neutron and photon transport simulation code. It can be used both for fixed source and for criticality calculations. The user can define complicated geometries with constructive solid geometries. OpenMC is written in C++, however it has a rich Python API, which will allow us to comminicate with the code through jupyter notebooks.\n",
    "\n",
    "OpenMC is not yet an industrial standard code, however our motivation to use it for this course was that it is \n",
    "\n",
    "1. freely available\n",
    "2. the important physics we could not tackle within this course ourselves (eg. thermal scattering and several reactions) are implemented in it\n",
    "3. since we can interact with the code through Python, we can deepen our programming skills\n",
    "4. for small problems it runs relatively fast on a single PC\n",
    "\n",
    "That said, today we are going to walk through a simple openMC input file. During this course we will only work with pincell models (ie. a single fuel pin infinite in the axial length with reflective boundaries, so neutrons are reflected back from the boundary in this way approximating an infinite core). This is of course a simplification of a complete reactor core, but it will still allow us to see a lot of cool physics. One could of course perform simulations at the assembly level or for a full-core, however such simulations would be more time consuming. There are several further examples at https://docs.openmc.org/.\n",
    "\n",
    "**Note that this notebook should be opened from an environment where openmc is available!**\n",
    "\n",
    "## The input file\n",
    "\n",
    "During the datalab we will define the following problem which roughly matches a typical western-type pressurized water reactor's conditions:\n",
    "\n",
    "- PWR pincell with reflective boundaries\n",
    "- Fuel radius: 0.41 cm\n",
    "- Fuel material: enriched UO2 with density 10.5 g/cm3\n",
    "- Cladding inner/outer radius: 0.42/0.45 cm\n",
    "- Cladding material: zirconium  with density 6.6 g/cm3\n",
    "- Coolant/moderator: pressurized water with density 0.75 g/cm3\n",
    "- Cell pitch: 1.26 cm\n",
    "\n",
    "Note that in practice, PWR fuel cladding is made of an alloy called Zircaloy, nevertheless it has little influence on the neutron economy, therefore we will approximate it as pure zirconium with its natural abundance of isotopes.\n",
    "\n",
    "So what do we need in order to define an openMC input?\n",
    "\n",
    "1. Materials: which materials are included in our geometry (nuclide content, temperature, density)?\n",
    "2. Geometry: how does the geometry look like? \n",
    "3. Tally: what are the quantities of interest? For example flux, or fission rate?\n",
    "4. Settings: how many neutrons we would like to include in the calculation?\n",
    "\n",
    "For each of these steps we will use the python API to export an xml file, which the code will use once we execute it. Note however that one could directly write xml files without using python, and run the code outside of Jupyter. For larger problems this is sometimes better. However we will want to analyse the output results in python, and sometimes we will script the input, so for us it is handy to use the python API.\n",
    "\n",
    "Let's get started!\n",
    "\n",
    "### Import\n",
    "\n",
    "We will need first to import openmc, and of course anything else we might need."
   ],
   "metadata": {}
  },
  {
   "cell_type": "code",
   "execution_count": 4,
   "source": [
    "import openmc\n",
    "import numpy as np\n",
    "import matplotlib.pyplot as plt\n",
    "import os\n",
    "\n",
    "path = '/root/jeff-3.3-hdf5/cross_sections.xml'"
   ],
   "outputs": [],
   "metadata": {}
  },
  {
   "cell_type": "markdown",
   "source": [
    "### Materials\n",
    "\n",
    "Do you remember the example `Material()` class we developed before? That is pretty similar to the `Material()` class of openMC. We create an instance of `Material()`, with a numeric id of the material, and then we can add nuclides, and set the density. We can also set the temperature (which can be 294 K, 600 K, 900 K, 1200 K, 2500 K, the temperatures at which the available cross sections are evaluated). There are other options as well (for example one can directly set the enrichment), what you can find in the documentation.\n",
    "\n",
    "If the nuclide inventory is not relevant for a material, we can add elements, in which case openMC will assume the natural abundance of isotopes.\n",
    "\n",
    "Notice that for water we will need to link to the $S(\\alpha,\\beta)$ laws, since we need to take into account the molecular bounds for scattering on hydrogen. \n",
    "\n",
    "Finally, we create an instance of `Materials()` (note, it is plural now!), and link the materials of the problem to this object. Then with the `export_to_xml()` method we export the information into an xml file. "
   ],
   "metadata": {}
  },
  {
   "cell_type": "code",
   "execution_count": 5,
   "source": [
    "uo2 = openmc.Material(1, \"uo2\",temperature=1200)\n",
    "# Add nuclides to uo2\n",
    "uo2.add_nuclide('U235', 0.04)\n",
    "uo2.add_nuclide('U238', 0.96)\n",
    "uo2.add_nuclide('O16', 2.0)\n",
    "uo2.set_density('g/cm3', 10.5)\n",
    "\n",
    "\n",
    "#cladding\n",
    "zirconium = openmc.Material(2, \"zirconium\",temperature=900)\n",
    "zirconium.add_element('Zr', 1.0)\n",
    "zirconium.set_density('g/cm3', 6.6)\n",
    "\n",
    "#coolant\n",
    "water = openmc.Material(3, \"h2o\")\n",
    "water.add_nuclide('H1', 2.0)\n",
    "water.add_nuclide('O16', 1.0)\n",
    "water.set_density('g/cm3', 0.75)\n",
    "\n",
    "water.add_s_alpha_beta('c_H_in_H2O')\n",
    "\n",
    "#creating Materials() and exporting to xml\n",
    "mats = openmc.Materials([uo2, zirconium, water])\n",
    "mats.cross_sections = path\n",
    "mats.export_to_xml()"
   ],
   "outputs": [],
   "metadata": {}
  },
  {
   "cell_type": "markdown",
   "source": [
    "We can print the content of the created xml file, with the linux command `cat`. (The `!` sign let's the python interpreter know that this is a command of the operating system.\n",
    "\n",
    "You can see how all the information was structured in an xml (which is probably familiar from the previous datalab).  "
   ],
   "metadata": {}
  },
  {
   "cell_type": "code",
   "execution_count": 6,
   "source": [
    "#!cat materials.xml"
   ],
   "outputs": [],
   "metadata": {}
  },
  {
   "cell_type": "markdown",
   "source": [
    "### Geometry\n",
    "\n",
    "Defining the geometry is only marginally more complicated. We will need to define surfaces (eg. `ZCylinder()`, `XPlane()`, and `YPlane()`), and regions bounded by the surfaces. Then we link the regions and the filling material to `Cell()` objects, which all have a numeric ID.  \n",
    "\n",
    "Our geometry is infinite in the axial dimension. First we define three cylinders (the bounding surfaces of the fuel, and the cladding). Then we use constuctive solid geometry rules to define the regions between the surfaces, and create the fuel pin. Finally we will define the water region around the fuel.\n",
    "\n",
    "We will then need to define a `Universe()` (the usefulness of this is not apparent in our simple exercise, but when defining reactor cores with repetitive patterns of various types of fuel assemblies, then \"universes\" are the way to handle this in most neutron transport code. You do not need to worry about this in this course). And finally we create a `Geometry()`, and link the universe. We will then export the information into an xml file. \n",
    "\n",
    "We further commented the lines to explain them"
   ],
   "metadata": {}
  },
  {
   "cell_type": "code",
   "execution_count": 7,
   "source": [
    "fuel_or = openmc.ZCylinder(r=0.41) #fuel cylinder with outer radius\n",
    "clad_ir = openmc.ZCylinder(r=0.42) #clad inner cylinder with inner radius\n",
    "clad_or = openmc.ZCylinder(r=0.45) #clad outer cylinder with outer radius\n",
    "\n",
    "\n",
    "fuel_region = -fuel_or                #inside the fuel cylinder\n",
    "gap_region = +fuel_or & -clad_ir      #outside of fuel cylinder and inside of clad inner cylinder\n",
    "clad_region = +clad_ir & -clad_or     #outside of clad inner cylinder and inside of clad outer cylinder\n",
    "\n",
    "fuel = openmc.Cell(1, 'fuel')\n",
    "fuel.fill = uo2\n",
    "fuel.region = fuel_region\n",
    "\n",
    "#notice that for the gap between the fuel and the clad we do not need to link a material\n",
    "# we consider that there is void there (considering the low density of the filling gas this is a fair approximation)\n",
    "gap = openmc.Cell(2, 'air gap')\n",
    "gap.region = gap_region\n",
    "\n",
    "clad = openmc.Cell(3, 'clad')\n",
    "clad.fill = zirconium\n",
    "clad.region = clad_region\n",
    "\n",
    "\n",
    "pitch = 1.26\n",
    "#we define the x and y planes with boundary condition\n",
    "left = openmc.XPlane(x0=-pitch/2, boundary_type='reflective')\n",
    "right = openmc.XPlane(x0=pitch/2, boundary_type='reflective')\n",
    "bottom = openmc.YPlane(y0=-pitch/2, boundary_type='reflective')\n",
    "top = openmc.YPlane(y0=pitch/2, boundary_type='reflective')\n",
    "\n",
    "#outside of left and inside of right, outside of bottom, and inside of top and outside of clad outer cylinder\n",
    "water_region = +left & -right & +bottom & -top & +clad_or\n",
    "\n",
    "moderator = openmc.Cell(4, 'moderator')\n",
    "moderator.fill = water\n",
    "moderator.region = water_region\n",
    "\n",
    "root = openmc.Universe(cells=[fuel, gap, clad, moderator])\n",
    "\n",
    "geom = openmc.Geometry()\n",
    "geom.root_universe = root\n",
    "geom.export_to_xml()"
   ],
   "outputs": [],
   "metadata": {}
  },
  {
   "cell_type": "markdown",
   "source": [
    "We can again inspect the xml file."
   ],
   "metadata": {}
  },
  {
   "cell_type": "code",
   "execution_count": 8,
   "source": [
    "#!cat geometry.xml"
   ],
   "outputs": [],
   "metadata": {}
  },
  {
   "cell_type": "markdown",
   "source": [
    "### Tally\n",
    "\n",
    "We can describe the physical quantities of interest with tallies. If no tally is defined the code will only calculate the k-effective.\n",
    "\n",
    "As we can see in the openMC documentation (in the user's guide) a tally is a quantity defined as\n",
    "\n",
    "$\\begin{equation}\n",
    "X = \\underbrace{\\int d\\mathbf{r} \\int d\\mathbf{\\Omega} \\int\n",
    "dE}_{\\text{filters}} \\underbrace{f(\\mathbf{r}, \\mathbf{\\Omega},\n",
    "E)}_{\\text{scores}} \\psi (\\mathbf{r}, \\mathbf{\\Omega}, E)\n",
    "\\end{equation}$\n",
    "\n",
    "For example if function $f()$ would be unity, we would score the flux in a certain part of the phase space. If function $f()$ is a macroscopic cross section, we would score reaction rates.\n",
    "\n",
    "Therefore we have to specify two things for a tally, which is created with a `Tally()` object:\n",
    "\n",
    "1. *filters*: which part of the phase space we would like score at (for example only a certain part of the geometry is of interest, or certain energy bins)?\n",
    "2. *scores*: what is the physical quantity of interest (for example flux, fission rate etc)\n",
    "\n",
    "You can find a detailed description of the available scores and filters in the documentation.\n",
    "\n",
    "Once the tallies are defined, we will need to link them into a `Tallies()` object, and export an xml file.\n",
    "\n",
    "In the following code block we define three tallies.\n",
    "\n",
    "1. tally for the neutron spectrum and the fission rate vs energy in the fuel\n",
    "2. tally for the neutron spectrum in the moderator\n",
    "3. a Mesh tally along the x-axis to tally the spatial dependence of the flux with three energy groups (thermal: 0-1eV, epithermal: 1eV-100keV, fast: 100keV-20MeV). Note, that we have to define 2 dimensions even if only 1 dimension is discretized spatially.\n",
    "\n",
    "The reason why we tally the fission rate as well in the 1st tally is to see how openMC will store the results. "
   ],
   "metadata": {}
  },
  {
   "cell_type": "code",
   "execution_count": 9,
   "source": [
    "# Tally 1: energy spectrum in fuel\n",
    "cell_filter1 = openmc.CellFilter(fuel)\n",
    "energybins=np.logspace(-2,7,1001) #1000 bins between 1e-2 eV and 1e7 eV\n",
    "energy_filter = openmc.EnergyFilter(energybins)\n",
    "\n",
    "t1 = openmc.Tally(1)\n",
    "t1.filters = [cell_filter1,energy_filter]\n",
    "t1.scores = ['flux','fission']\n",
    "\n",
    "# Tally 2: energy spectrum in moderator\n",
    "# we can use the same energy_filter as before\n",
    "cell_filter2 = openmc.CellFilter(moderator)\n",
    "\n",
    "t2 = openmc.Tally(2)\n",
    "t2.filters = [cell_filter2,energy_filter]\n",
    "t2.scores = ['flux']\n",
    "\n",
    "# Tally 3: mesh tally in dimension x in three energy groups\n",
    "energy_filter2 = openmc.EnergyFilter([0., 1, 100e3, 20.0e6])\n",
    "myMesh=openmc.RegularMesh(name='xmesh')\n",
    "myMesh.dimension=[100,1] #number of spatial bins along x axis and y axis\n",
    "myMesh.lower_left=[-pitch/2,-pitch/2]\n",
    "myMesh.upper_right=[pitch/2,pitch/2]\n",
    "mesh_filter = openmc.MeshFilter(myMesh)\n",
    "\n",
    "t3 = openmc.Tally(3)\n",
    "t3.filters = [mesh_filter,energy_filter2]\n",
    "t3.scores = ['flux']\n",
    "\n",
    "tallies = openmc.Tallies([t1,t2,t3])\n",
    "tallies.export_to_xml()"
   ],
   "outputs": [],
   "metadata": {}
  },
  {
   "cell_type": "code",
   "execution_count": 10,
   "source": [
    "energybins"
   ],
   "outputs": [
    {
     "output_type": "execute_result",
     "data": {
      "text/plain": [
       "array([1.00000000e-02, 1.02093948e-02, 1.04231743e-02, ...,\n",
       "       9.59400632e+06, 9.79489985e+06, 1.00000000e+07])"
      ]
     },
     "metadata": {},
     "execution_count": 10
    }
   ],
   "metadata": {}
  },
  {
   "cell_type": "markdown",
   "source": [
    "We can inspect the xml file."
   ],
   "metadata": {}
  },
  {
   "cell_type": "code",
   "execution_count": 11,
   "source": [
    "#!cat tallies.xml"
   ],
   "outputs": [],
   "metadata": {}
  },
  {
   "cell_type": "markdown",
   "source": [
    "### Settings\n",
    "\n",
    "There are some parameters we will need to set: we have to include the original source location and specify the number of batches and particles per batches for the criticality mode calculation. We also have to specify the number of \"inactive\" batches (these cycles are used to spread the fission source over the geometry, but the scores are still biased due to the original source not sampling all the possible fission sites properly). \n",
    "\n",
    "Since we have no better guess for the moment, we will place the source first in the center of the geometry. The number of batches and particles are set so that the results are reasonably accurate. If you wanted to have more accurate results you could increase these numbers, if you wanted to have shorter calculations, you could decrease these numbers.\n",
    "\n",
    "Again, the instance of the `Setting()` object is exported to xml."
   ],
   "metadata": {}
  },
  {
   "cell_type": "code",
   "execution_count": 12,
   "source": [
    "point = openmc.stats.Point((0, 0, 0))\n",
    "src = openmc.Source(space=point)\n",
    "\n",
    "settings = openmc.Settings()\n",
    "settings.source = src\n",
    "settings.batches = 100\n",
    "settings.inactive = 10\n",
    "settings.particles = 5000\n",
    "settings.export_to_xml()"
   ],
   "outputs": [
    {
     "output_type": "stream",
     "name": "stderr",
     "text": [
      "/usr/local/lib/python3.9/dist-packages/openmc/source.py:390: FutureWarning: This class is deprecated in favor of 'IndependentSource'\n",
      "  warnings.warn(\"This class is deprecated in favor of 'IndependentSource'\", FutureWarning)\n"
     ]
    }
   ],
   "metadata": {}
  },
  {
   "cell_type": "code",
   "execution_count": 13,
   "source": [
    "#!cat settings.xml"
   ],
   "outputs": [],
   "metadata": {}
  },
  {
   "cell_type": "markdown",
   "source": [
    "## Plotting the geometry\n",
    "\n",
    "There are several ways of plotting the geometry. The simplest inline plotting option is to call the `plot()` method of the `Universe()` object (in our case this was called `root`). This is a wrapper of matplotlib. However, there is a more advanced options by setting up an instance of the `Plot()` class, and running openMC directly to generate a plot. Since in this course we work with a rather simple geometry, we will not look at the advanced plotting option, but you are welcome to check the user's guide."
   ],
   "metadata": {}
  },
  {
   "cell_type": "code",
   "execution_count": 14,
   "source": [
    "#root.plot()\n",
    "# Create a plot\n",
    "plot = openmc.Plot(name='Fuelcell')\n",
    "plot.type = 'slice'  # Plot type: 'slice' or 'voxel'\n",
    "plot.basis = 'xy'  # 'xy', 'xz', or 'yz' slice\n",
    "plot.origin = [0, 0, 0]  # Center of the plot\n",
    "plot.width = [1.0, 1.0]  # Width of the plot in cm\n",
    "plot.pixels = [400, 400]  # Resolution of the plot\n",
    "\n",
    "# Add colors for materials\n",
    "plot.colors = {fuel: 'red', clad: 'black', moderator: 'blue'}\n",
    "# Export plot settings\n",
    "plots = openmc.Plots([plot])\n",
    "plots.export_to_xml()\n",
    "\n",
    "# Run OpenMC in plotting mode\n",
    "openmc.plot_geometry(output=False)"
   ],
   "outputs": [],
   "metadata": {}
  },
  {
   "cell_type": "code",
   "execution_count": 15,
   "source": [
    "root.plot()\n",
    "plt.show()"
   ],
   "outputs": [
    {
     "output_type": "display_data",
     "data": {
      "image/png": "[encoded data removed]",
      "text/plain": [
       "<Figure size 258.065x259.74 with 1 Axes>"
      ]
     },
     "metadata": {}
    }
   ],
   "metadata": {}
  },
  {
   "cell_type": "markdown",
   "source": [
    "## Calculation\n",
    "\n",
    "Finally, we are done, and nothing left just to run openMC and wait for the results. For this we have to specify where the cross section files are (this we could do in the system as well). Then call the `openmc.run()` method. And you immediately see how the k-effective is being estimated.\n",
    "\n",
    "**Note 1**: The results are being stored in a file named 'statepoint.100.h5' (100 refers to the number of batches), also a 'summary.h5' and some other files are created. Sometimes openMC is complaining if there are already existing h5 files, so in this case we can remove (`rm`) these files. For this we make a system call with `os.system` to remove any file for which the name starts with 's' and ands with 'h5'. Nevertheless, be careful with removing files, not to loose data. \n",
    "\n",
    "**Note 2**: Sometimes the python API breaks for no apparent reason, you can just restart the kernel, if that happens. "
   ],
   "metadata": {}
  },
  {
   "cell_type": "code",
   "execution_count": 16,
   "source": [
    "import os\n",
    "os.system('rm s*h5')\n",
    "\n",
    "openmc.run()"
   ],
   "outputs": [
    {
     "output_type": "stream",
     "name": "stdout",
     "text": [
      "                                %%%%%%%%%%%%%%%\n",
      "                           %%%%%%%%%%%%%%%%%%%%%%%%\n",
      "                        %%%%%%%%%%%%%%%%%%%%%%%%%%%%%%\n",
      "                      %%%%%%%%%%%%%%%%%%%%%%%%%%%%%%%%%%\n",
      "                    %%%%%%%%%%%%%%%%%%%%%%%%%%%%%%%%%%%%%%\n",
      "                   %%%%%%%%%%%%%%%%%%%%%%%%%%%%%%%%%%%%%%%%\n",
      "                                    %%%%%%%%%%%%%%%%%%%%%%%%\n",
      "                                     %%%%%%%%%%%%%%%%%%%%%%%%\n",
      "                 ###############      %%%%%%%%%%%%%%%%%%%%%%%%\n",
      "                ##################     %%%%%%%%%%%%%%%%%%%%%%%\n",
      "                ###################     %%%%%%%%%%%%%%%%%%%%%%%\n",
      "                ####################     %%%%%%%%%%%%%%%%%%%%%%\n",
      "                #####################     %%%%%%%%%%%%%%%%%%%%%\n",
      "                ######################     %%%%%%%%%%%%%%%%%%%%\n",
      "                #######################     %%%%%%%%%%%%%%%%%%\n",
      "                 #######################     %%%%%%%%%%%%%%%%%\n",
      "                 ######################     %%%%%%%%%%%%%%%%%\n",
      "                  ####################     %%%%%%%%%%%%%%%%%\n",
      "                    #################     %%%%%%%%%%%%%%%%%\n",
      "                     ###############     %%%%%%%%%%%%%%%%\n",
      "                       ############     %%%%%%%%%%%%%%%\n",
      "                          ########     %%%%%%%%%%%%%%\n",
      "                                      %%%%%%%%%%%\n",
      "\n",
      "                 | The OpenMC Monte Carlo Code\n",
      "       Copyright | 2011-2023 MIT, UChicago Argonne LLC, and contributors\n",
      "         License | https://docs.openmc.org/en/latest/license.html\n",
      "         Version | 0.14.0\n",
      "        Git SHA1 | fa2330103de61a864c958d1a7250f11e5dd91468\n",
      "       Date/Time | 2024-03-10 12:52:38\n",
      "   MPI Processes | 1\n",
      "  OpenMP Threads | 8\n",
      "\n",
      " Reading settings XML file...\n",
      " Reading cross sections XML file...\n",
      " Reading materials XML file...\n",
      " Reading geometry XML file...\n",
      " Reading U235 from /root/jeff-3.3-hdf5/U235.h5\n",
      " Reading U238 from /root/jeff-3.3-hdf5/U238.h5\n",
      " Reading O16 from /root/jeff-3.3-hdf5/O16.h5\n",
      " Reading Zr90 from /root/jeff-3.3-hdf5/Zr90.h5\n",
      " Reading Zr91 from /root/jeff-3.3-hdf5/Zr91.h5\n",
      " Reading Zr92 from /root/jeff-3.3-hdf5/Zr92.h5\n",
      " Reading Zr94 from /root/jeff-3.3-hdf5/Zr94.h5\n",
      " Reading Zr96 from /root/jeff-3.3-hdf5/Zr96.h5\n",
      " Reading H1 from /root/jeff-3.3-hdf5/H1.h5\n",
      " Reading c_H_in_H2O from /root/jeff-3.3-hdf5/c_H_in_H2O.h5\n",
      " Minimum neutron data temperature: 294 K\n",
      " Maximum neutron data temperature: 1200 K\n",
      " Reading tallies XML file...\n",
      " Preparing distributed cell instances...\n",
      " Reading plot XML file...\n",
      " Writing summary.h5 file...\n",
      " Maximum neutron transport energy: 20000000 eV for H1\n",
      " Initializing source particles...\n",
      "\n",
      " ====================>     K EIGENVALUE SIMULATION     <====================\n",
      "\n",
      "  Bat./Gen.      k            Average k\n",
      "  =========   ========   ====================\n",
      "        1/1    1.39397\n",
      "        2/1    1.38134\n",
      "        3/1    1.35933\n",
      "        4/1    1.40812\n",
      "        5/1    1.37898\n",
      "        6/1    1.38147\n",
      "        7/1    1.36242\n",
      "        8/1    1.38900\n",
      "        9/1    1.39716\n",
      "       10/1    1.40787\n",
      "       11/1    1.42985\n",
      "       12/1    1.44195    1.43590 +/- 0.00605\n",
      "       13/1    1.40654    1.42611 +/- 0.01039\n",
      "       14/1    1.41975    1.42452 +/- 0.00752\n",
      "       15/1    1.35049    1.40972 +/- 0.01591\n",
      "       16/1    1.35101    1.39993 +/- 0.01626\n",
      "       17/1    1.36966    1.39561 +/- 0.01441\n",
      "       18/1    1.41081    1.39751 +/- 0.01262\n",
      "       19/1    1.40701    1.39856 +/- 0.01118\n",
      "       20/1    1.43368    1.40207 +/- 0.01060\n",
      "       21/1    1.38356    1.40039 +/- 0.00974\n",
      "       22/1    1.39644    1.40006 +/- 0.00889\n",
      "       23/1    1.39902    1.39998 +/- 0.00818\n",
      "       24/1    1.38967    1.39925 +/- 0.00761\n",
      "       25/1    1.34804    1.39583 +/- 0.00786\n",
      "       26/1    1.40568    1.39645 +/- 0.00738\n",
      "       27/1    1.35506    1.39401 +/- 0.00735\n",
      "       28/1    1.39418    1.39402 +/- 0.00693\n",
      "       29/1    1.37888    1.39323 +/- 0.00660\n",
      "       30/1    1.39597    1.39336 +/- 0.00626\n",
      "       31/1    1.40424    1.39388 +/- 0.00598\n",
      "       32/1    1.38059    1.39328 +/- 0.00573\n",
      "       33/1    1.45132    1.39580 +/- 0.00603\n",
      "       34/1    1.36744    1.39462 +/- 0.00590\n",
      "       35/1    1.35681    1.39311 +/- 0.00585\n",
      "       36/1    1.42066    1.39417 +/- 0.00572\n",
      "       37/1    1.41163    1.39481 +/- 0.00554\n",
      "       38/1    1.40502    1.39518 +/- 0.00536\n",
      "       39/1    1.40127    1.39539 +/- 0.00517\n",
      "       40/1    1.43729    1.39678 +/- 0.00519\n",
      "       41/1    1.37453    1.39607 +/- 0.00507\n",
      "       42/1    1.39813    1.39613 +/- 0.00491\n",
      "       43/1    1.37592    1.39552 +/- 0.00480\n",
      "       44/1    1.40033    1.39566 +/- 0.00466\n",
      "       45/1    1.40942    1.39605 +/- 0.00454\n",
      "       46/1    1.38398    1.39572 +/- 0.00442\n",
      "       47/1    1.36013    1.39476 +/- 0.00441\n",
      "       48/1    1.35204    1.39363 +/- 0.00443\n",
      "       49/1    1.34896    1.39249 +/- 0.00447\n",
      "       50/1    1.37858    1.39214 +/- 0.00437\n",
      "       51/1    1.37482    1.39172 +/- 0.00428\n",
      "       52/1    1.39242    1.39173 +/- 0.00418\n",
      "       53/1    1.35492    1.39088 +/- 0.00417\n",
      "       54/1    1.42376    1.39162 +/- 0.00414\n",
      "       55/1    1.41666    1.39218 +/- 0.00409\n",
      "       56/1    1.39181    1.39217 +/- 0.00400\n",
      "       57/1    1.39497    1.39223 +/- 0.00391\n",
      "       58/1    1.40678    1.39253 +/- 0.00384\n",
      "       59/1    1.38414    1.39236 +/- 0.00377\n",
      "       60/1    1.39676    1.39245 +/- 0.00369\n",
      "       61/1    1.38713    1.39235 +/- 0.00362\n",
      "       62/1    1.36062    1.39174 +/- 0.00360\n",
      "       63/1    1.42979    1.39246 +/- 0.00360\n",
      "       64/1    1.40931    1.39277 +/- 0.00355\n",
      "       65/1    1.43828    1.39359 +/- 0.00358\n",
      "       66/1    1.37693    1.39330 +/- 0.00353\n",
      "       67/1    1.37668    1.39301 +/- 0.00348\n",
      "       68/1    1.33855    1.39207 +/- 0.00355\n",
      "       69/1    1.40814    1.39234 +/- 0.00350\n",
      "       70/1    1.38574    1.39223 +/- 0.00344\n",
      "       71/1    1.38067    1.39204 +/- 0.00339\n",
      "       72/1    1.37800    1.39181 +/- 0.00334\n",
      "       73/1    1.36429    1.39138 +/- 0.00332\n",
      "       74/1    1.33131    1.39044 +/- 0.00340\n",
      "       75/1    1.37017    1.39013 +/- 0.00336\n",
      "       76/1    1.36913    1.38981 +/- 0.00332\n",
      "       77/1    1.38975    1.38981 +/- 0.00327\n",
      "       78/1    1.39069    1.38982 +/- 0.00322\n",
      "       79/1    1.39294    1.38987 +/- 0.00318\n",
      "       80/1    1.38895    1.38985 +/- 0.00313\n",
      "       81/1    1.41754    1.39024 +/- 0.00311\n",
      "       82/1    1.39858    1.39036 +/- 0.00307\n",
      "       83/1    1.38852    1.39033 +/- 0.00303\n",
      "       84/1    1.38141    1.39021 +/- 0.00299\n",
      "       85/1    1.39771    1.39031 +/- 0.00295\n",
      "       86/1    1.36358    1.38996 +/- 0.00293\n",
      "       87/1    1.39705    1.39005 +/- 0.00290\n",
      "       88/1    1.35955    1.38966 +/- 0.00288\n",
      "       89/1    1.38209    1.38957 +/- 0.00285\n",
      "       90/1    1.35732    1.38916 +/- 0.00284\n",
      "       91/1    1.35354    1.38872 +/- 0.00284\n",
      "       92/1    1.44113    1.38936 +/- 0.00288\n",
      "       93/1    1.38954    1.38936 +/- 0.00284\n",
      "       94/1    1.36940    1.38913 +/- 0.00282\n",
      "       95/1    1.42151    1.38951 +/- 0.00281\n",
      "       96/1    1.39775    1.38960 +/- 0.00278\n",
      "       97/1    1.38995    1.38961 +/- 0.00275\n",
      "       98/1    1.39978    1.38972 +/- 0.00272\n",
      "       99/1    1.32935    1.38904 +/- 0.00277\n",
      "      100/1    1.41385    1.38932 +/- 0.00276\n",
      " Creating state point statepoint.100.h5...\n",
      "\n",
      " =======================>     TIMING STATISTICS     <=======================\n",
      "\n",
      " Total time for initialization     = 2.8845e+00 seconds\n",
      "   Reading cross sections          = 2.8478e+00 seconds\n",
      " Total time in simulation          = 3.9234e+01 seconds\n",
      "   Time in transport only          = 3.8519e+01 seconds\n",
      "   Time in inactive batches        = 1.3957e+00 seconds\n",
      "   Time in active batches          = 3.7838e+01 seconds\n",
      "   Time synchronizing fission bank = 5.6506e-02 seconds\n",
      "     Sampling source sites         = 4.5112e-02 seconds\n",
      "     SEND/RECV source sites        = 3.9838e-03 seconds\n",
      "   Time accumulating tallies       = 5.7582e-01 seconds\n",
      "   Time writing statepoints        = 2.1940e-02 seconds\n",
      " Total time for finalization       = 6.5150e-03 seconds\n",
      " Total time elapsed                = 4.2152e+01 seconds\n",
      " Calculation Rate (inactive)       = 35824.4 particles/second\n",
      " Calculation Rate (active)         = 11892.7 particles/second\n",
      "\n",
      " ============================>     RESULTS     <============================\n",
      "\n",
      " k-effective (Collision)     = 1.39313 +/- 0.00219\n",
      " k-effective (Track-length)  = 1.38932 +/- 0.00276\n",
      " k-effective (Absorption)    = 1.39215 +/- 0.00150\n",
      " Combined k-effective        = 1.39275 +/- 0.00149\n",
      " Leakage Fraction            = 0.00000 +/- 0.00000\n",
      "\n"
     ]
    }
   ],
   "metadata": {}
  },
  {
   "cell_type": "markdown",
   "source": [
    "## Post-processing\n",
    "\n",
    "Alright, we did our calculation, we even saw that some k-effective values were printed, but we still haven't seen any more results. For this we will need to read in the statepoint file. We will read this file into an object called `sp`. If we hit TAB while typing `sp.` we can review the available methods and attributes. For example we can get the final k-effective as below."
   ],
   "metadata": {}
  },
  {
   "cell_type": "code",
   "execution_count": 17,
   "source": [
    "sp = openmc.StatePoint('statepoint.100.h5')\n",
    "sp.keff"
   ],
   "outputs": [
    {
     "output_type": "execute_result",
     "data": {
      "text/plain": [
       "1.3927492921762694+/-0.0014907267827736367"
      ]
     },
     "metadata": {},
     "execution_count": 17
    }
   ],
   "metadata": {}
  },
  {
   "cell_type": "code",
   "execution_count": 18,
   "source": [
    "?sp"
   ],
   "outputs": [
    {
     "output_type": "stream",
     "name": "stdout",
     "text": [
      "\u001b[0;31mType:\u001b[0m        StatePoint\n",
      "\u001b[0;31mString form:\u001b[0m <openmc.statepoint.StatePoint object at 0x7feabe632ac0>\n",
      "\u001b[0;31mFile:\u001b[0m        /usr/local/lib/python3.9/dist-packages/openmc/statepoint.py\n",
      "\u001b[0;31mDocstring:\u001b[0m  \n",
      "State information on a simulation at a certain point in time (at the end\n",
      "of a given batch). Statepoints can be used to analyze tally results as well\n",
      "as restart a simulation.\n",
      "\n",
      "Parameters\n",
      "----------\n",
      "filepath : str or Path\n",
      "    Path to file to load\n",
      "autolink : bool, optional\n",
      "    Whether to automatically link in metadata from a summary.h5 file and\n",
      "    stochastic volume calculation results from volume_*.h5 files. Defaults\n",
      "    to True.\n",
      "\n",
      "Attributes\n",
      "----------\n",
      "cmfd_on : bool\n",
      "    Indicate whether CMFD is active\n",
      "cmfd_balance : numpy.ndarray\n",
      "    Residual neutron balance for each batch\n",
      "cmfd_dominance\n",
      "    Dominance ratio for each batch\n",
      "cmfd_entropy : numpy.ndarray\n",
      "    Shannon entropy of CMFD fission source for each batch\n",
      "cmfd_indices : numpy.ndarray\n",
      "    Number of CMFD mesh cells and energy groups. The first three indices\n",
      "    correspond to the x-, y-, and z- spatial directions and the fourth index\n",
      "    is the number of energy groups.\n",
      "cmfd_srccmp : numpy.ndarray\n",
      "    Root-mean-square difference between OpenMC and CMFD fission source for\n",
      "    each batch\n",
      "cmfd_src : numpy.ndarray\n",
      "    CMFD fission source distribution over all mesh cells and energy groups.\n",
      "current_batch : int\n",
      "    Number of batches simulated\n",
      "date_and_time : datetime.datetime\n",
      "    Date and time at which statepoint was written\n",
      "entropy : numpy.ndarray\n",
      "    Shannon entropy of fission source at each batch\n",
      "filters : dict\n",
      "    Dictionary whose keys are filter IDs and whose values are Filter\n",
      "    objects\n",
      "generations_per_batch : int\n",
      "    Number of fission generations per batch\n",
      "global_tallies : numpy.ndarray of compound datatype\n",
      "    Global tallies for k-effective estimates and leakage. The compound\n",
      "    datatype has fields 'name', 'sum', 'sum_sq', 'mean', and 'std_dev'.\n",
      "k_combined : uncertainties.UFloat\n",
      "    Combined estimator for k-effective\n",
      "\n",
      "    .. deprecated:: 0.13.1\n",
      "k_col_abs : float\n",
      "    Cross-product of collision and absorption estimates of k-effective\n",
      "k_col_tra : float\n",
      "    Cross-product of collision and tracklength estimates of k-effective\n",
      "k_abs_tra : float\n",
      "    Cross-product of absorption and tracklength estimates of k-effective\n",
      "k_generation : numpy.ndarray\n",
      "    Estimate of k-effective for each batch/generation\n",
      "keff : uncertainties.UFloat\n",
      "    Combined estimator for k-effective\n",
      "\n",
      "    .. versionadded:: 0.13.1\n",
      "meshes : dict\n",
      "    Dictionary whose keys are mesh IDs and whose values are MeshBase objects\n",
      "n_batches : int\n",
      "    Number of batches\n",
      "n_inactive : int\n",
      "    Number of inactive batches\n",
      "n_particles : int\n",
      "    Number of particles per generation\n",
      "n_realizations : int\n",
      "    Number of tally realizations\n",
      "path : str\n",
      "    Working directory for simulation\n",
      "photon_transport : bool\n",
      "    Indicate whether photon transport is active\n",
      "run_mode : str\n",
      "    Simulation run mode, e.g. 'eigenvalue'\n",
      "runtime : dict\n",
      "    Dictionary whose keys are strings describing various runtime metrics\n",
      "    and whose values are time values in seconds.\n",
      "seed : int\n",
      "    Pseudorandom number generator seed\n",
      "source : numpy.ndarray of compound datatype\n",
      "    Array of source sites. The compound datatype has fields 'r', 'u',\n",
      "    'E', 'wgt', 'delayed_group', 'surf_id', and 'particle', corresponding to\n",
      "    the position, direction, energy, weight, delayed group, surface ID and\n",
      "    particle type of the source site, respectively.\n",
      "source_present : bool\n",
      "    Indicate whether source sites are present\n",
      "sparse : bool\n",
      "    Whether or not the tallies uses SciPy's LIL sparse matrix format for\n",
      "    compressed data storage\n",
      "tallies : dict\n",
      "    Dictionary whose keys are tally IDs and whose values are Tally objects\n",
      "tallies_present : bool\n",
      "    Indicate whether user-defined tallies are present\n",
      "tally_derivatives : dict\n",
      "    Dictionary whose keys are tally derivative IDs and whose values are\n",
      "    TallyDerivative objects\n",
      "version: tuple of Integral\n",
      "    Version of OpenMC\n",
      "summary : None or openmc.Summary\n",
      "    A summary object if the statepoint has been linked with a summary file"
     ]
    }
   ],
   "metadata": {}
  },
  {
   "cell_type": "markdown",
   "source": [
    "And the values we can access for further processing or plotting:"
   ],
   "metadata": {}
  },
  {
   "cell_type": "code",
   "execution_count": 19,
   "source": [
    "keff=sp.keff.nominal_value\n",
    "keff_error=sp.keff.std_dev\n",
    "print(keff,keff_error)"
   ],
   "outputs": [
    {
     "output_type": "stream",
     "name": "stdout",
     "text": [
      "1.3927492921762694 0.0014907267827736367\n"
     ]
    }
   ],
   "metadata": {}
  },
  {
   "cell_type": "markdown",
   "source": [
    "The tallies are stored in a dictionary where the keys are the numeric IDs we defined previously:"
   ],
   "metadata": {}
  },
  {
   "cell_type": "code",
   "execution_count": 20,
   "source": [
    "sp.tallies"
   ],
   "outputs": [
    {
     "output_type": "execute_result",
     "data": {
      "text/plain": [
       "{1: Tally\n",
       " \tID             =\t1\n",
       " \tName           =\t\n",
       " \tFilters        =\tCellFilter, EnergyFilter\n",
       " \tNuclides       =\ttotal\n",
       " \tScores         =\t['flux', 'fission']\n",
       " \tEstimator      =\ttracklength\n",
       " \tMultiply dens. =\tTrue,\n",
       " 2: Tally\n",
       " \tID             =\t2\n",
       " \tName           =\t\n",
       " \tFilters        =\tCellFilter, EnergyFilter\n",
       " \tNuclides       =\ttotal\n",
       " \tScores         =\t['flux']\n",
       " \tEstimator      =\ttracklength\n",
       " \tMultiply dens. =\tTrue,\n",
       " 3: Tally\n",
       " \tID             =\t3\n",
       " \tName           =\t\n",
       " \tFilters        =\tMeshFilter, EnergyFilter\n",
       " \tNuclides       =\ttotal\n",
       " \tScores         =\t['flux']\n",
       " \tEstimator      =\ttracklength\n",
       " \tMultiply dens. =\tTrue}"
      ]
     },
     "metadata": {},
     "execution_count": 20
    }
   ],
   "metadata": {}
  },
  {
   "cell_type": "markdown",
   "source": [
    "We can convert the tally results into pandas dataframes. So at the end we have a nice table, for each energy bin there is a row for the flux and a row for the fission rate. If we prefer we can split the dataframe based on conditions to store separately the flux and the fission rate. For this we can apply conditions as we have seen during the previous datalabs.\n",
    "\n",
    "The results are stored in the 'mean' column."
   ],
   "metadata": {}
  },
  {
   "cell_type": "code",
   "execution_count": 21,
   "source": [
    "tallydf1=sp.tallies[1].get_pandas_dataframe()\n",
    "tallydf1.head() #prints the first 5 rows"
   ],
   "outputs": [
    {
     "output_type": "execute_result",
     "data": {
      "text/html": [
       "<div>\n",
       "<style scoped>\n",
       "    .dataframe tbody tr th:only-of-type {\n",
       "        vertical-align: middle;\n",
       "    }\n",
       "\n",
       "    .dataframe tbody tr th {\n",
       "        vertical-align: top;\n",
       "    }\n",
       "\n",
       "    .dataframe thead th {\n",
       "        text-align: right;\n",
       "    }\n",
       "</style>\n",
       "<table border=\"1\" class=\"dataframe\">\n",
       "  <thead>\n",
       "    <tr style=\"text-align: right;\">\n",
       "      <th></th>\n",
       "      <th>cell</th>\n",
       "      <th>energy low [eV]</th>\n",
       "      <th>energy high [eV]</th>\n",
       "      <th>nuclide</th>\n",
       "      <th>score</th>\n",
       "      <th>mean</th>\n",
       "      <th>std. dev.</th>\n",
       "    </tr>\n",
       "  </thead>\n",
       "  <tbody>\n",
       "    <tr>\n",
       "      <th>0</th>\n",
       "      <td>1</td>\n",
       "      <td>0.010000</td>\n",
       "      <td>0.010209</td>\n",
       "      <td>total</td>\n",
       "      <td>flux</td>\n",
       "      <td>0.001003</td>\n",
       "      <td>0.000037</td>\n",
       "    </tr>\n",
       "    <tr>\n",
       "      <th>1</th>\n",
       "      <td>1</td>\n",
       "      <td>0.010000</td>\n",
       "      <td>0.010209</td>\n",
       "      <td>total</td>\n",
       "      <td>fission</td>\n",
       "      <td>0.000888</td>\n",
       "      <td>0.000033</td>\n",
       "    </tr>\n",
       "    <tr>\n",
       "      <th>2</th>\n",
       "      <td>1</td>\n",
       "      <td>0.010209</td>\n",
       "      <td>0.010423</td>\n",
       "      <td>total</td>\n",
       "      <td>flux</td>\n",
       "      <td>0.001012</td>\n",
       "      <td>0.000044</td>\n",
       "    </tr>\n",
       "    <tr>\n",
       "      <th>3</th>\n",
       "      <td>1</td>\n",
       "      <td>0.010209</td>\n",
       "      <td>0.010423</td>\n",
       "      <td>total</td>\n",
       "      <td>fission</td>\n",
       "      <td>0.000887</td>\n",
       "      <td>0.000039</td>\n",
       "    </tr>\n",
       "    <tr>\n",
       "      <th>4</th>\n",
       "      <td>1</td>\n",
       "      <td>0.010423</td>\n",
       "      <td>0.010641</td>\n",
       "      <td>total</td>\n",
       "      <td>flux</td>\n",
       "      <td>0.001090</td>\n",
       "      <td>0.000040</td>\n",
       "    </tr>\n",
       "  </tbody>\n",
       "</table>\n",
       "</div>"
      ],
      "text/plain": [
       "   cell  energy low [eV]  energy high [eV] nuclide    score      mean  \\\n",
       "0     1         0.010000          0.010209   total     flux  0.001003   \n",
       "1     1         0.010000          0.010209   total  fission  0.000888   \n",
       "2     1         0.010209          0.010423   total     flux  0.001012   \n",
       "3     1         0.010209          0.010423   total  fission  0.000887   \n",
       "4     1         0.010423          0.010641   total     flux  0.001090   \n",
       "\n",
       "   std. dev.  \n",
       "0   0.000037  \n",
       "1   0.000033  \n",
       "2   0.000044  \n",
       "3   0.000039  \n",
       "4   0.000040  "
      ]
     },
     "metadata": {},
     "execution_count": 21
    }
   ],
   "metadata": {}
  },
  {
   "cell_type": "code",
   "execution_count": 22,
   "source": [
    "tallydf1flux=tallydf1[tallydf1['score']=='flux']\n",
    "tallydf1fiss=tallydf1[tallydf1['score']=='fission']\n",
    "tallydf1flux.head()"
   ],
   "outputs": [
    {
     "output_type": "execute_result",
     "data": {
      "text/html": [
       "<div>\n",
       "<style scoped>\n",
       "    .dataframe tbody tr th:only-of-type {\n",
       "        vertical-align: middle;\n",
       "    }\n",
       "\n",
       "    .dataframe tbody tr th {\n",
       "        vertical-align: top;\n",
       "    }\n",
       "\n",
       "    .dataframe thead th {\n",
       "        text-align: right;\n",
       "    }\n",
       "</style>\n",
       "<table border=\"1\" class=\"dataframe\">\n",
       "  <thead>\n",
       "    <tr style=\"text-align: right;\">\n",
       "      <th></th>\n",
       "      <th>cell</th>\n",
       "      <th>energy low [eV]</th>\n",
       "      <th>energy high [eV]</th>\n",
       "      <th>nuclide</th>\n",
       "      <th>score</th>\n",
       "      <th>mean</th>\n",
       "      <th>std. dev.</th>\n",
       "    </tr>\n",
       "  </thead>\n",
       "  <tbody>\n",
       "    <tr>\n",
       "      <th>0</th>\n",
       "      <td>1</td>\n",
       "      <td>0.010000</td>\n",
       "      <td>0.010209</td>\n",
       "      <td>total</td>\n",
       "      <td>flux</td>\n",
       "      <td>0.001003</td>\n",
       "      <td>0.000037</td>\n",
       "    </tr>\n",
       "    <tr>\n",
       "      <th>2</th>\n",
       "      <td>1</td>\n",
       "      <td>0.010209</td>\n",
       "      <td>0.010423</td>\n",
       "      <td>total</td>\n",
       "      <td>flux</td>\n",
       "      <td>0.001012</td>\n",
       "      <td>0.000044</td>\n",
       "    </tr>\n",
       "    <tr>\n",
       "      <th>4</th>\n",
       "      <td>1</td>\n",
       "      <td>0.010423</td>\n",
       "      <td>0.010641</td>\n",
       "      <td>total</td>\n",
       "      <td>flux</td>\n",
       "      <td>0.001090</td>\n",
       "      <td>0.000040</td>\n",
       "    </tr>\n",
       "    <tr>\n",
       "      <th>6</th>\n",
       "      <td>1</td>\n",
       "      <td>0.010641</td>\n",
       "      <td>0.010864</td>\n",
       "      <td>total</td>\n",
       "      <td>flux</td>\n",
       "      <td>0.001101</td>\n",
       "      <td>0.000042</td>\n",
       "    </tr>\n",
       "    <tr>\n",
       "      <th>8</th>\n",
       "      <td>1</td>\n",
       "      <td>0.010864</td>\n",
       "      <td>0.011092</td>\n",
       "      <td>total</td>\n",
       "      <td>flux</td>\n",
       "      <td>0.001115</td>\n",
       "      <td>0.000040</td>\n",
       "    </tr>\n",
       "  </tbody>\n",
       "</table>\n",
       "</div>"
      ],
      "text/plain": [
       "   cell  energy low [eV]  energy high [eV] nuclide score      mean  std. dev.\n",
       "0     1         0.010000          0.010209   total  flux  0.001003   0.000037\n",
       "2     1         0.010209          0.010423   total  flux  0.001012   0.000044\n",
       "4     1         0.010423          0.010641   total  flux  0.001090   0.000040\n",
       "6     1         0.010641          0.010864   total  flux  0.001101   0.000042\n",
       "8     1         0.010864          0.011092   total  flux  0.001115   0.000040"
      ]
     },
     "metadata": {},
     "execution_count": 22
    }
   ],
   "metadata": {}
  },
  {
   "cell_type": "markdown",
   "source": [
    "Let's plot these results."
   ],
   "metadata": {}
  },
  {
   "cell_type": "code",
   "execution_count": 23,
   "source": [
    "energy=(tallydf1flux['energy low [eV]']+tallydf1flux['energy high [eV]'])/2\n",
    "plt.figure()\n",
    "plt.loglog(energy, tallydf1flux['mean'])\n",
    "plt.xlabel('energy (eV)')\n",
    "plt.ylabel('Group flux per source particle')\n",
    "plt.show()"
   ],
   "outputs": [
    {
     "output_type": "display_data",
     "data": {
      "image/png": "[encoded data removed]",
      "text/plain": [
       "<Figure size 640x480 with 1 Axes>"
      ]
     },
     "metadata": {}
    }
   ],
   "metadata": {}
  },
  {
   "cell_type": "markdown",
   "source": [
    "These of course does not look like the spectrum we saw during the lecture. But here actually each value is not the flux at a certain energy, but the integral of the flux between energies. If we divide the integral flux with the width of the bins (`deltaE`) we get the more familiar shape for the spectrum.\n",
    "\n",
    "We can clearly see the Maxwellien thermal component, the 1/E part with the self-shielding effect of the resonances, and the Watt-spectrum at high energies.\n",
    "\n",
    "The very first \"negative\" peak is due to the 6.67 eV resonance of U-238."
   ],
   "metadata": {}
  },
  {
   "cell_type": "code",
   "execution_count": 24,
   "source": [
    "deltaE=(tallydf1flux['energy high [eV]']-tallydf1flux['energy low [eV]'])\n",
    "plt.figure()\n",
    "plt.loglog(energy,tallydf1flux['mean']/deltaE,lw=2)\n",
    "\n",
    "plt.ylabel('Spectrum per source particle (1/eV)')\n",
    "plt.xlabel('Energy (eV)')\n",
    "plt.show()"
   ],
   "outputs": [
    {
     "output_type": "display_data",
     "data": {
      "image/png": "[encoded data removed]",
      "text/plain": [
       "<Figure size 640x480 with 1 Axes>"
      ]
     },
     "metadata": {}
    }
   ],
   "metadata": {}
  },
  {
   "cell_type": "code",
   "execution_count": 59,
   "source": [
    "tally2 = sp.tallies[2].get_pandas_dataframe()\n",
    "tally2.head()"
   ],
   "outputs": [
    {
     "output_type": "execute_result",
     "data": {
      "text/html": [
       "<div>\n",
       "<style scoped>\n",
       "    .dataframe tbody tr th:only-of-type {\n",
       "        vertical-align: middle;\n",
       "    }\n",
       "\n",
       "    .dataframe tbody tr th {\n",
       "        vertical-align: top;\n",
       "    }\n",
       "\n",
       "    .dataframe thead th {\n",
       "        text-align: right;\n",
       "    }\n",
       "</style>\n",
       "<table border=\"1\" class=\"dataframe\">\n",
       "  <thead>\n",
       "    <tr style=\"text-align: right;\">\n",
       "      <th></th>\n",
       "      <th>cell</th>\n",
       "      <th>energy low [eV]</th>\n",
       "      <th>energy high [eV]</th>\n",
       "      <th>nuclide</th>\n",
       "      <th>score</th>\n",
       "      <th>mean</th>\n",
       "      <th>std. dev.</th>\n",
       "    </tr>\n",
       "  </thead>\n",
       "  <tbody>\n",
       "    <tr>\n",
       "      <th>0</th>\n",
       "      <td>4</td>\n",
       "      <td>0.010000</td>\n",
       "      <td>0.010209</td>\n",
       "      <td>total</td>\n",
       "      <td>flux</td>\n",
       "      <td>0.002865</td>\n",
       "      <td>0.000053</td>\n",
       "    </tr>\n",
       "    <tr>\n",
       "      <th>1</th>\n",
       "      <td>4</td>\n",
       "      <td>0.010209</td>\n",
       "      <td>0.010423</td>\n",
       "      <td>total</td>\n",
       "      <td>flux</td>\n",
       "      <td>0.003048</td>\n",
       "      <td>0.000058</td>\n",
       "    </tr>\n",
       "    <tr>\n",
       "      <th>2</th>\n",
       "      <td>4</td>\n",
       "      <td>0.010423</td>\n",
       "      <td>0.010641</td>\n",
       "      <td>total</td>\n",
       "      <td>flux</td>\n",
       "      <td>0.003082</td>\n",
       "      <td>0.000056</td>\n",
       "    </tr>\n",
       "    <tr>\n",
       "      <th>3</th>\n",
       "      <td>4</td>\n",
       "      <td>0.010641</td>\n",
       "      <td>0.010864</td>\n",
       "      <td>total</td>\n",
       "      <td>flux</td>\n",
       "      <td>0.003094</td>\n",
       "      <td>0.000058</td>\n",
       "    </tr>\n",
       "    <tr>\n",
       "      <th>4</th>\n",
       "      <td>4</td>\n",
       "      <td>0.010864</td>\n",
       "      <td>0.011092</td>\n",
       "      <td>total</td>\n",
       "      <td>flux</td>\n",
       "      <td>0.003227</td>\n",
       "      <td>0.000061</td>\n",
       "    </tr>\n",
       "  </tbody>\n",
       "</table>\n",
       "</div>"
      ],
      "text/plain": [
       "   cell  energy low [eV]  energy high [eV] nuclide score      mean  std. dev.\n",
       "0     4         0.010000          0.010209   total  flux  0.002865   0.000053\n",
       "1     4         0.010209          0.010423   total  flux  0.003048   0.000058\n",
       "2     4         0.010423          0.010641   total  flux  0.003082   0.000056\n",
       "3     4         0.010641          0.010864   total  flux  0.003094   0.000058\n",
       "4     4         0.010864          0.011092   total  flux  0.003227   0.000061"
      ]
     },
     "metadata": {},
     "execution_count": 59
    }
   ],
   "metadata": {}
  },
  {
   "cell_type": "markdown",
   "source": [
    "Now it is your turn to plot the spectrum in the moderator (preferably include both the fuel and the moderator spectrum in the same figure). You will need to `get_pandas_dataframe` from tally 2, and then plot the results. Compare with the spectrum in the fuel, what is the most noticable difference?"
   ],
   "metadata": {}
  },
  {
   "cell_type": "code",
   "execution_count": 61,
   "source": [
    "tally2flux = tally2[tally2['score']=='flux']\n",
    "energy=(tally2flux['energy low [eV]']+tally2flux['energy high [eV]'])/2\n",
    "\n",
    "deltaE=(tally2flux['energy high [eV]']-tally2flux['energy low [eV]'])\n",
    "\n",
    "plt.figure(figsize=(10,5))\n",
    "plt.loglog(energy,tally2flux['mean']/deltaE,lw=2)\n",
    "plt.ylabel('Spectrum per source particle (1/eV)')\n",
    "plt.xlabel('Energy (eV)')\n",
    "plt.show()"
   ],
   "outputs": [
    {
     "output_type": "display_data",
     "data": {
      "image/png": "[encoded data removed]",
      "text/plain": [
       "<Figure size 1000x500 with 1 Axes>"
      ]
     },
     "metadata": {}
    }
   ],
   "metadata": {}
  },
  {
   "cell_type": "code",
   "execution_count": 67,
   "source": [
    "tally3 = sp.tallies[3].get_pandas_dataframe()\n",
    "tally3.head()"
   ],
   "outputs": [
    {
     "output_type": "execute_result",
     "data": {
      "text/html": [
       "<div>\n",
       "<style scoped>\n",
       "    .dataframe tbody tr th:only-of-type {\n",
       "        vertical-align: middle;\n",
       "    }\n",
       "\n",
       "    .dataframe tbody tr th {\n",
       "        vertical-align: top;\n",
       "    }\n",
       "\n",
       "    .dataframe thead tr th {\n",
       "        text-align: left;\n",
       "    }\n",
       "</style>\n",
       "<table border=\"1\" class=\"dataframe\">\n",
       "  <thead>\n",
       "    <tr>\n",
       "      <th></th>\n",
       "      <th colspan=\"3\" halign=\"left\">mesh 1</th>\n",
       "      <th>energy low [eV]</th>\n",
       "      <th>energy high [eV]</th>\n",
       "      <th>nuclide</th>\n",
       "      <th>score</th>\n",
       "      <th>mean</th>\n",
       "      <th>std. dev.</th>\n",
       "    </tr>\n",
       "    <tr>\n",
       "      <th></th>\n",
       "      <th>x</th>\n",
       "      <th>y</th>\n",
       "      <th>z</th>\n",
       "      <th></th>\n",
       "      <th></th>\n",
       "      <th></th>\n",
       "      <th></th>\n",
       "      <th></th>\n",
       "      <th></th>\n",
       "    </tr>\n",
       "  </thead>\n",
       "  <tbody>\n",
       "    <tr>\n",
       "      <th>0</th>\n",
       "      <td>1</td>\n",
       "      <td>1</td>\n",
       "      <td>1</td>\n",
       "      <td>0.0</td>\n",
       "      <td>1.0</td>\n",
       "      <td>total</td>\n",
       "      <td>flux</td>\n",
       "      <td>0.058810</td>\n",
       "      <td>0.000155</td>\n",
       "    </tr>\n",
       "    <tr>\n",
       "      <th>1</th>\n",
       "      <td>1</td>\n",
       "      <td>1</td>\n",
       "      <td>1</td>\n",
       "      <td>1.0</td>\n",
       "      <td>100000.0</td>\n",
       "      <td>total</td>\n",
       "      <td>flux</td>\n",
       "      <td>0.157620</td>\n",
       "      <td>0.000215</td>\n",
       "    </tr>\n",
       "    <tr>\n",
       "      <th>2</th>\n",
       "      <td>1</td>\n",
       "      <td>1</td>\n",
       "      <td>1</td>\n",
       "      <td>100000.0</td>\n",
       "      <td>20000000.0</td>\n",
       "      <td>total</td>\n",
       "      <td>flux</td>\n",
       "      <td>0.182287</td>\n",
       "      <td>0.000294</td>\n",
       "    </tr>\n",
       "    <tr>\n",
       "      <th>3</th>\n",
       "      <td>2</td>\n",
       "      <td>1</td>\n",
       "      <td>1</td>\n",
       "      <td>0.0</td>\n",
       "      <td>1.0</td>\n",
       "      <td>total</td>\n",
       "      <td>flux</td>\n",
       "      <td>0.058701</td>\n",
       "      <td>0.000157</td>\n",
       "    </tr>\n",
       "    <tr>\n",
       "      <th>4</th>\n",
       "      <td>2</td>\n",
       "      <td>1</td>\n",
       "      <td>1</td>\n",
       "      <td>1.0</td>\n",
       "      <td>100000.0</td>\n",
       "      <td>total</td>\n",
       "      <td>flux</td>\n",
       "      <td>0.157448</td>\n",
       "      <td>0.000196</td>\n",
       "    </tr>\n",
       "  </tbody>\n",
       "</table>\n",
       "</div>"
      ],
      "text/plain": [
       "  mesh 1       energy low [eV] energy high [eV] nuclide score      mean  \\\n",
       "       x  y  z                                                            \n",
       "0      1  1  1             0.0              1.0   total  flux  0.058810   \n",
       "1      1  1  1             1.0         100000.0   total  flux  0.157620   \n",
       "2      1  1  1        100000.0       20000000.0   total  flux  0.182287   \n",
       "3      2  1  1             0.0              1.0   total  flux  0.058701   \n",
       "4      2  1  1             1.0         100000.0   total  flux  0.157448   \n",
       "\n",
       "  std. dev.  \n",
       "             \n",
       "0  0.000155  \n",
       "1  0.000215  \n",
       "2  0.000294  \n",
       "3  0.000157  \n",
       "4  0.000196  "
      ]
     },
     "metadata": {},
     "execution_count": 67
    }
   ],
   "metadata": {}
  },
  {
   "cell_type": "markdown",
   "source": [
    "Your conclusion comes here."
   ],
   "metadata": {}
  },
  {
   "cell_type": "markdown",
   "source": [
    "Finally, we can look at the spatial dependence of the flux. We read in the 3rd tally. Try to split the dataset according to the energy groups and plot the flux vs x-coordinate for the three energy groups separately. Normalize each curve by their maximum, so they are comparable.\n",
    "\n",
    "Conclude your findings!"
   ],
   "metadata": {}
  },
  {
   "cell_type": "code",
   "execution_count": 106,
   "source": [
    "# fast neutrons\n",
    "tally_fast = tally3.loc[tally3[\"energy low [eV]\"] == 100000.0] # extract fast neutrons\n",
    "mesh_fast = tally_fast[('mesh 1')]\n",
    "xs_fast = mesh_fast['x']  * pitch/100 - pitch/2 # center x values in middle of cell\n",
    "fast_mean = tally_fast['mean']\n",
    "\n",
    "# thermal neutrons\n",
    "tally_thermal = tally3.loc[tally3[\"energy low [eV]\"] == 0.0] # extract thermal neutrons\n",
    "mesh_thermal = tally_thermal[('mesh 1')]\n",
    "xs_thermal = mesh_thermal['x']  * pitch/100 - pitch/2 # center x values in middle of cell\n",
    "thermal_mean = tally_thermal['mean']\n",
    "\n",
    "# plot\n",
    "plt.figure(figsize=(8,6))\n",
    "\n",
    "plt.plot(xs_fast,fast_mean/max(fast_mean), label='Fast neutron flux')\n",
    "plt.plot(xs_thermal,thermal_mean/max(thermal_mean), label='Thermal neutron flux')\n",
    "\n",
    "r=0.41 # radius of fuel\n",
    "plt.axvline(r,color='black',alpha=0.5)\n",
    "plt.axvline(-r,color='black',alpha=0.5)\n",
    "plt.annotate('Inside fuel', xy=[-r+0.05,0.88])\n",
    "plt.annotate('Outside fuel', xy=[-r-0.24,0.88])\n",
    "\n",
    "plt.legend()\n",
    "plt.title('Neutron flux on x spacial coordinate')\n",
    "plt.xlabel('X coordinate [cm]')\n",
    "plt.ylabel('Normalized neutron flux')\n",
    "plt.show()"
   ],
   "outputs": [
    {
     "output_type": "display_data",
     "data": {
      "image/png": "[encoded data removed]",
      "text/plain": [
       "<Figure size 800x600 with 1 Axes>"
      ]
     },
     "metadata": {}
    }
   ],
   "metadata": {}
  },
  {
   "cell_type": "markdown",
   "source": [
    "There are more thermal neutrons inside the fuel and more thermal neutrons in the moderator!"
   ],
   "metadata": {}
  },
  {
   "cell_type": "markdown",
   "source": [
    "## Experiment time!\n",
    "\n",
    "If time permits, modify your input, and see how the results change. Points of interest:\n",
    "\n",
    "- Change the void content (ie. decrease the moderator density), and observe how the k-eff changes. What happens with the spectrum?\n",
    "- What is the impact on the k-eff if you change the UO2 temperature?\n",
    "- What is the impact of increasing the pitch of the pincell?\n",
    "\n",
    "You can also take a look at the third set of home assignments, where you will need to implement various geometries in openMC, and already give it a try."
   ],
   "metadata": {}
  }
 ],
 "metadata": {
  "kernelspec": {
   "name": "python3",
   "display_name": "Python 3.8.2 64-bit"
  },
  "interpreter": {
   "hash": "31f2aee4e71d21fbe5cf8b01ff0e069b9275f58929596ceb00d14d90e3e16cd6"
  },
  "language_info": {
   "name": "python",
   "version": "3.9.2",
   "mimetype": "text/x-python",
   "codemirror_mode": {
    "name": "ipython",
    "version": 3
   },
   "pygments_lexer": "ipython3",
   "nbconvert_exporter": "python",
   "file_extension": ".py"
  }
 },
 "nbformat": 4,
 "nbformat_minor": 4
}